{
 "cells": [
  {
   "cell_type": "code",
   "execution_count": 6,
   "metadata": {},
   "outputs": [],
   "source": [
    "import pandas as pd\n",
    "import numpy as np"
   ]
  },
  {
   "cell_type": "markdown",
   "metadata": {},
   "source": [
    "# 總排名前五十名"
   ]
  },
  {
   "cell_type": "code",
   "execution_count": 40,
   "metadata": {},
   "outputs": [],
   "source": [
    "df = pd.read_csv(\"raw/all2020.csv\")\n",
    "newdf = df.drop_duplicates(subset=['中文片名'])"
   ]
  },
  {
   "cell_type": "code",
   "execution_count": 41,
   "metadata": {},
   "outputs": [
    {
     "name": "stderr",
     "output_type": "stream",
     "text": [
      "/Users/pot/anaconda3/envs/Auo_2020Aplus/lib/python3.6/site-packages/ipykernel_launcher.py:2: SettingWithCopyWarning: \n",
      "A value is trying to be set on a copy of a slice from a DataFrame.\n",
      "Try using .loc[row_indexer,col_indexer] = value instead\n",
      "\n",
      "See the caveats in the documentation: https://pandas.pydata.org/pandas-docs/stable/user_guide/indexing.html#returning-a-view-versus-a-copy\n",
      "  \n",
      "/Users/pot/anaconda3/envs/Auo_2020Aplus/lib/python3.6/site-packages/ipykernel_launcher.py:3: SettingWithCopyWarning: \n",
      "A value is trying to be set on a copy of a slice from a DataFrame.\n",
      "Try using .loc[row_indexer,col_indexer] = value instead\n",
      "\n",
      "See the caveats in the documentation: https://pandas.pydata.org/pandas-docs/stable/user_guide/indexing.html#returning-a-view-versus-a-copy\n",
      "  This is separate from the ipykernel package so we can avoid doing imports until\n"
     ]
    }
   ],
   "source": [
    "name_list = newdf[\"中文片名\"].tolist()\n",
    "newdf[\"tmax\"] = pd.Series(np.random.randn(newdf.shape[0]), index=newdf.index) \n",
    "newdf[\"mmax\"] = pd.Series(np.random.randn(newdf.shape[0]), index=newdf.index) \n",
    "# newdf['ymax'] = pd.Series(np.random.randn(newdf.shape[0]), index=newdf.index) "
   ]
  },
  {
   "cell_type": "code",
   "execution_count": 42,
   "metadata": {},
   "outputs": [
    {
     "name": "stderr",
     "output_type": "stream",
     "text": [
      "/Users/pot/anaconda3/envs/Auo_2020Aplus/lib/python3.6/site-packages/ipykernel_launcher.py:10: SettingWithCopyWarning: \n",
      "A value is trying to be set on a copy of a slice from a DataFrame.\n",
      "Try using .loc[row_indexer,col_indexer] = value instead\n",
      "\n",
      "See the caveats in the documentation: https://pandas.pydata.org/pandas-docs/stable/user_guide/indexing.html#returning-a-view-versus-a-copy\n",
      "  # Remove the CWD from sys.path while we load stuff.\n",
      "/Users/pot/anaconda3/envs/Auo_2020Aplus/lib/python3.6/site-packages/ipykernel_launcher.py:11: SettingWithCopyWarning: \n",
      "A value is trying to be set on a copy of a slice from a DataFrame.\n",
      "Try using .loc[row_indexer,col_indexer] = value instead\n",
      "\n",
      "See the caveats in the documentation: https://pandas.pydata.org/pandas-docs/stable/user_guide/indexing.html#returning-a-view-versus-a-copy\n",
      "  # This is added back by InteractiveShellApp.init_path()\n",
      "/Users/pot/anaconda3/envs/Auo_2020Aplus/lib/python3.6/site-packages/ipykernel_launcher.py:12: SettingWithCopyWarning: \n",
      "A value is trying to be set on a copy of a slice from a DataFrame.\n",
      "Try using .loc[row_indexer,col_indexer] = value instead\n",
      "\n",
      "See the caveats in the documentation: https://pandas.pydata.org/pandas-docs/stable/user_guide/indexing.html#returning-a-view-versus-a-copy\n",
      "  if sys.path[0] == '':\n"
     ]
    }
   ],
   "source": [
    "for name in name_list:\n",
    "    tnum_list  = df[df[\"中文片名\"]==name][\"累計銷售票數\"].tolist()\n",
    "    money_list = df[df[\"中文片名\"]==name][\"累計銷售金額\"].tolist()\n",
    "    yuan_list = df[df[\"中文片名\"]==name][\"上映院數\"].tolist()\n",
    "    for i in range(0,len(tnum_list)):\n",
    "        tnum_list[i] = tnum_list[i].replace(',','')\n",
    "        tnum_list[i] = int(tnum_list[i])\n",
    "        money_list[i] = money_list[i].replace(',','')\n",
    "        money_list[i] = int(money_list[i])\n",
    "    newdf['tmax'] = np.where(newdf['中文片名']==name, max(tnum_list), newdf['tmax'])\n",
    "    newdf['mmax'] = np.where(newdf['中文片名']==name, max(money_list), newdf['mmax'])\n",
    "    newdf['上映院數'] = np.where(newdf['中文片名']==name, max(money_list), newdf['上映院數'])"
   ]
  },
  {
   "cell_type": "code",
   "execution_count": 43,
   "metadata": {
    "scrolled": true
   },
   "outputs": [],
   "source": [
    "newdf = newdf.sort_values(by=[\"tmax\"],ascending=False)"
   ]
  },
  {
   "cell_type": "code",
   "execution_count": 44,
   "metadata": {},
   "outputs": [],
   "source": [
    "lll = []\n",
    "for i in newdf[\"tmax\"]:\n",
    "    lll.append(f'{int(i):,}')\n",
    "newdf[\"累計銷售票數\"] = lll \n",
    "lll = []\n",
    "for i in newdf[\"mmax\"]:\n",
    "    lll.append(f'{int(i):,}')\n",
    "newdf[\"累計銷售金額\"] = lll \n",
    "newdf = newdf.iloc[:50]"
   ]
  },
  {
   "cell_type": "code",
   "execution_count": 45,
   "metadata": {},
   "outputs": [],
   "source": [
    "newdf.to_csv(\"top50.csv\",index=False)"
   ]
  },
  {
   "cell_type": "markdown",
   "metadata": {},
   "source": [
    "# 切成12月份"
   ]
  },
  {
   "cell_type": "code",
   "execution_count": 238,
   "metadata": {},
   "outputs": [],
   "source": [
    "df = pd.read_csv(\"2020movie.csv\")\n",
    "df = df.drop_duplicates()\n",
    "df.to_csv(\"2020movie.csv\")"
   ]
  },
  {
   "cell_type": "code",
   "execution_count": 239,
   "metadata": {},
   "outputs": [
    {
     "name": "stderr",
     "output_type": "stream",
     "text": [
      "/Users/pot/anaconda3/envs/Auo_2020Aplus/lib/python3.6/site-packages/ipykernel_launcher.py:4: SettingWithCopyWarning: \n",
      "A value is trying to be set on a copy of a slice from a DataFrame.\n",
      "Try using .loc[row_indexer,col_indexer] = value instead\n",
      "\n",
      "See the caveats in the documentation: https://pandas.pydata.org/pandas-docs/stable/user_guide/indexing.html#returning-a-view-versus-a-copy\n",
      "  after removing the cwd from sys.path.\n",
      "/Users/pot/anaconda3/envs/Auo_2020Aplus/lib/python3.6/site-packages/ipykernel_launcher.py:13: SettingWithCopyWarning: \n",
      "A value is trying to be set on a copy of a slice from a DataFrame.\n",
      "Try using .loc[row_indexer,col_indexer] = value instead\n",
      "\n",
      "See the caveats in the documentation: https://pandas.pydata.org/pandas-docs/stable/user_guide/indexing.html#returning-a-view-versus-a-copy\n",
      "  del sys.path[0]\n",
      "/Users/pot/anaconda3/envs/Auo_2020Aplus/lib/python3.6/site-packages/ipykernel_launcher.py:18: SettingWithCopyWarning: \n",
      "A value is trying to be set on a copy of a slice from a DataFrame\n",
      "\n",
      "See the caveats in the documentation: https://pandas.pydata.org/pandas-docs/stable/user_guide/indexing.html#returning-a-view-versus-a-copy\n",
      "/Users/pot/anaconda3/envs/Auo_2020Aplus/lib/python3.6/site-packages/ipykernel_launcher.py:23: SettingWithCopyWarning: \n",
      "A value is trying to be set on a copy of a slice from a DataFrame.\n",
      "Try using .loc[row_indexer,col_indexer] = value instead\n",
      "\n",
      "See the caveats in the documentation: https://pandas.pydata.org/pandas-docs/stable/user_guide/indexing.html#returning-a-view-versus-a-copy\n"
     ]
    },
    {
     "name": "stdout",
     "output_type": "stream",
     "text": [
      "---------- 1 ----------\n",
      "---------- 2 ----------\n",
      "---------- 3 ----------\n",
      "---------- 4 ----------\n",
      "---------- 5 ----------\n",
      "---------- 6 ----------\n",
      "---------- 7 ----------\n",
      "---------- 8 ----------\n",
      "---------- 9 ----------\n",
      "---------- 10 ----------\n",
      "---------- 11 ----------\n",
      "---------- 12 ----------\n"
     ]
    }
   ],
   "source": [
    "for month in range(1,13):\n",
    "    this_month_df = df[df[\"Month\"]==month]\n",
    "    tm_df_dropdup = this_month_df.drop_duplicates(subset=['中文片名'])\n",
    "    tm_df_dropdup[\"tcnt\"] = pd.Series(np.random.randn(tm_df_dropdup.shape[0]), index=tm_df_dropdup.index) \n",
    "    name_list = list(set(this_month_df[\"中文片名\"].tolist()))\n",
    "    for name in name_list:\n",
    "        tnum_list  = this_month_df[this_month_df[\"中文片名\"]==name][\"銷售票數\"].tolist()\n",
    "        for i in range(0,len(tnum_list)):\n",
    "            tnum_list[i] = tnum_list[i].replace(',','')\n",
    "            tnum_list[i] = int(tnum_list[i])\n",
    "        n = sum(tnum_list)\n",
    "        \n",
    "        tm_df_dropdup['tcnt'] = np.where(tm_df_dropdup['中文片名']==name, int(sum(tnum_list)),tm_df_dropdup['tcnt'])\n",
    "#         tm_df_dropdup[tm_df_dropdup[\"中文片名\"]==name][\"月累積票房\"] = sum(tnum_list)\n",
    "#         print(name,\":\",sum(tnum_list))\n",
    "    \n",
    "    print(\"----------\",month,\"----------\")\n",
    "    tm_df_dropdup.sort_values(by=[\"tcnt\"],ascending=False,inplace=True)\n",
    "    lll = []\n",
    "    for i in tm_df_dropdup[\"tcnt\"]:\n",
    "        lll.append(f'{int(i):,}')\n",
    "\n",
    "    tm_df_dropdup['月累計票房'] = lll\n",
    "    tm_df_dropdup = tm_df_dropdup.iloc[:20]\n",
    "    tm_df_dropdup.to_csv(str(month)+\".csv\",index=False)\n",
    "    \n",
    "    "
   ]
  },
  {
   "cell_type": "code",
   "execution_count": null,
   "metadata": {},
   "outputs": [],
   "source": []
  }
 ],
 "metadata": {
  "kernelspec": {
   "display_name": "Python 3",
   "language": "python",
   "name": "python3"
  },
  "language_info": {
   "codemirror_mode": {
    "name": "ipython",
    "version": 3
   },
   "file_extension": ".py",
   "mimetype": "text/x-python",
   "name": "python",
   "nbconvert_exporter": "python",
   "pygments_lexer": "ipython3",
   "version": "3.6.10"
  }
 },
 "nbformat": 4,
 "nbformat_minor": 4
}
